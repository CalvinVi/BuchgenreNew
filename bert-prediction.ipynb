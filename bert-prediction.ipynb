{
 "cells": [
  {
   "cell_type": "code",
   "execution_count": null,
   "id": "12f89204",
   "metadata": {},
   "outputs": [
    {
     "name": "stdout",
     "output_type": "stream",
     "text": [
      "Note: you may need to restart the kernel to use updated packages.\n"
     ]
    },
    {
     "name": "stderr",
     "output_type": "stream",
     "text": [
      "Generating train split: 6535 examples [00:00, 38863.52 examples/s]\n"
     ]
    },
    {
     "name": "stdout",
     "output_type": "stream",
     "text": [
      "Datensatz geladen: 6535 Bücher\n"
     ]
    },
    {
     "name": "stderr",
     "output_type": "stream",
     "text": [
      "Casting the dataset: 100%|██████████| 6535/6535 [00:00<00:00, 145090.53 examples/s]\n"
     ]
    },
    {
     "name": "stdout",
     "output_type": "stream",
     "text": [
      "Splits → Train: 4574, Val: 653, Test: 1308\n"
     ]
    },
    {
     "name": "stderr",
     "output_type": "stream",
     "text": [
      "c:\\Users\\calvi\\Desktop\\Büchergenre\\venv\\Lib\\site-packages\\transformers\\tokenization_utils_base.py:1601: FutureWarning: `clean_up_tokenization_spaces` was not set. It will be set to `True` by default. This behavior will be depracted in transformers v4.45, and will be then set to `False` by default. For more details check this issue: https://github.com/huggingface/transformers/issues/31884\n",
      "  warnings.warn(\n",
      "Map: 100%|██████████| 4574/4574 [00:01<00:00, 3658.81 examples/s]\n",
      "Map: 100%|██████████| 653/653 [00:00<00:00, 5347.60 examples/s]\n",
      "Map: 100%|██████████| 1308/1308 [00:00<00:00, 5333.91 examples/s]\n"
     ]
    },
    {
     "name": "stdout",
     "output_type": "stream",
     "text": [
      "\n",
      "--- Training: lr_2e-05_bs_8 ---\n"
     ]
    },
    {
     "name": "stderr",
     "output_type": "stream",
     "text": [
      "Some weights of DistilBertForSequenceClassification were not initialized from the model checkpoint at distilbert-base-uncased and are newly initialized: ['classifier.bias', 'classifier.weight', 'pre_classifier.bias', 'pre_classifier.weight']\n",
      "You should probably TRAIN this model on a down-stream task to be able to use it for predictions and inference.\n",
      "c:\\Users\\calvi\\Desktop\\Büchergenre\\venv\\Lib\\site-packages\\transformers\\training_args.py:1525: FutureWarning: `evaluation_strategy` is deprecated and will be removed in version 4.46 of 🤗 Transformers. Use `eval_strategy` instead\n",
      "  warnings.warn(\n",
      " 20%|██        | 572/2860 [02:38<08:29,  4.49it/s]"
     ]
    },
    {
     "name": "stdout",
     "output_type": "stream",
     "text": [
      "{'loss': 0.909, 'grad_norm': 17.982929229736328, 'learning_rate': 1.6000000000000003e-05, 'epoch': 1.0}\n"
     ]
    },
    {
     "name": "stderr",
     "output_type": "stream",
     "text": [
      "                                                  \n",
      " 20%|██        | 572/2860 [02:47<08:29,  4.49it/s]"
     ]
    },
    {
     "name": "stdout",
     "output_type": "stream",
     "text": [
      "{'eval_loss': 0.5787040591239929, 'eval_accuracy': 0.8300153139356815, 'eval_runtime': 8.5016, 'eval_samples_per_second': 76.809, 'eval_steps_per_second': 9.645, 'epoch': 1.0}\n"
     ]
    },
    {
     "name": "stderr",
     "output_type": "stream",
     "text": [
      " 40%|████      | 1144/2860 [05:25<07:00,  4.08it/s] "
     ]
    },
    {
     "name": "stdout",
     "output_type": "stream",
     "text": [
      "{'loss': 0.4899, 'grad_norm': 12.128899574279785, 'learning_rate': 1.2e-05, 'epoch': 2.0}\n"
     ]
    },
    {
     "name": "stderr",
     "output_type": "stream",
     "text": [
      "                                                   \n",
      " 40%|████      | 1144/2860 [05:33<07:00,  4.08it/s]"
     ]
    },
    {
     "name": "stdout",
     "output_type": "stream",
     "text": [
      "{'eval_loss': 0.5895833373069763, 'eval_accuracy': 0.8330781010719756, 'eval_runtime': 8.2331, 'eval_samples_per_second': 79.314, 'eval_steps_per_second': 9.96, 'epoch': 2.0}\n"
     ]
    },
    {
     "name": "stderr",
     "output_type": "stream",
     "text": [
      " 60%|██████    | 1716/2860 [08:10<04:59,  3.82it/s]  "
     ]
    },
    {
     "name": "stdout",
     "output_type": "stream",
     "text": [
      "{'loss': 0.3316, 'grad_norm': 24.2751407623291, 'learning_rate': 8.000000000000001e-06, 'epoch': 3.0}\n"
     ]
    },
    {
     "name": "stderr",
     "output_type": "stream",
     "text": [
      "                                                   \n",
      " 60%|██████    | 1716/2860 [08:18<04:59,  3.82it/s]"
     ]
    },
    {
     "name": "stdout",
     "output_type": "stream",
     "text": [
      "{'eval_loss': 0.685965359210968, 'eval_accuracy': 0.8346094946401225, 'eval_runtime': 8.2335, 'eval_samples_per_second': 79.31, 'eval_steps_per_second': 9.959, 'epoch': 3.0}\n"
     ]
    },
    {
     "name": "stderr",
     "output_type": "stream",
     "text": [
      " 80%|████████  | 2288/2860 [10:54<02:27,  3.87it/s]  "
     ]
    },
    {
     "name": "stdout",
     "output_type": "stream",
     "text": [
      "{'loss': 0.2232, 'grad_norm': 0.0993100255727768, 'learning_rate': 4.000000000000001e-06, 'epoch': 4.0}\n"
     ]
    },
    {
     "name": "stderr",
     "output_type": "stream",
     "text": [
      "                                                   \n",
      " 80%|████████  | 2288/2860 [11:02<02:27,  3.87it/s]"
     ]
    },
    {
     "name": "stdout",
     "output_type": "stream",
     "text": [
      "{'eval_loss': 0.7948698997497559, 'eval_accuracy': 0.8223583460949464, 'eval_runtime': 8.2727, 'eval_samples_per_second': 78.934, 'eval_steps_per_second': 9.912, 'epoch': 4.0}\n"
     ]
    },
    {
     "name": "stderr",
     "output_type": "stream",
     "text": [
      "100%|██████████| 2860/2860 [13:39<00:00,  3.51it/s]"
     ]
    },
    {
     "name": "stdout",
     "output_type": "stream",
     "text": [
      "{'loss': 0.1619, 'grad_norm': 0.24879762530326843, 'learning_rate': 0.0, 'epoch': 5.0}\n"
     ]
    },
    {
     "name": "stderr",
     "output_type": "stream",
     "text": [
      "                                                   \n",
      "100%|██████████| 2860/2860 [13:48<00:00,  3.51it/s]"
     ]
    },
    {
     "name": "stdout",
     "output_type": "stream",
     "text": [
      "{'eval_loss': 0.8129902482032776, 'eval_accuracy': 0.8238897396630934, 'eval_runtime': 8.2613, 'eval_samples_per_second': 79.043, 'eval_steps_per_second': 9.926, 'epoch': 5.0}\n"
     ]
    },
    {
     "name": "stderr",
     "output_type": "stream",
     "text": [
      "100%|██████████| 2860/2860 [13:49<00:00,  3.51it/s]"
     ]
    },
    {
     "name": "stdout",
     "output_type": "stream",
     "text": [
      "{'train_runtime': 829.6343, 'train_samples_per_second': 27.566, 'train_steps_per_second': 3.447, 'train_loss': 0.4231088918405813, 'epoch': 5.0}\n"
     ]
    },
    {
     "name": "stderr",
     "output_type": "stream",
     "text": [
      "100%|██████████| 2860/2860 [13:50<00:00,  3.44it/s]\n",
      "100%|██████████| 82/82 [00:08<00:00, 10.12it/s]\n",
      "Some weights of DistilBertForSequenceClassification were not initialized from the model checkpoint at distilbert-base-uncased and are newly initialized: ['classifier.bias', 'classifier.weight', 'pre_classifier.bias', 'pre_classifier.weight']\n",
      "You should probably TRAIN this model on a down-stream task to be able to use it for predictions and inference.\n"
     ]
    },
    {
     "name": "stdout",
     "output_type": "stream",
     "text": [
      "\n",
      "--- Training: lr_2e-05_bs_16 ---\n"
     ]
    },
    {
     "name": "stderr",
     "output_type": "stream",
     "text": [
      "c:\\Users\\calvi\\Desktop\\Büchergenre\\venv\\Lib\\site-packages\\transformers\\training_args.py:1525: FutureWarning: `evaluation_strategy` is deprecated and will be removed in version 4.46 of 🤗 Transformers. Use `eval_strategy` instead\n",
      "  warnings.warn(\n",
      " 20%|██        | 286/1430 [09:53<36:03,  1.89s/it]  "
     ]
    },
    {
     "name": "stdout",
     "output_type": "stream",
     "text": [
      "{'loss': 1.0064, 'grad_norm': 8.655010223388672, 'learning_rate': 1.6000000000000003e-05, 'epoch': 1.0}\n"
     ]
    },
    {
     "name": "stderr",
     "output_type": "stream",
     "text": [
      "\n",
      " 20%|██        | 286/1430 [11:16<36:03,  1.89s/it]"
     ]
    },
    {
     "name": "stdout",
     "output_type": "stream",
     "text": [
      "{'eval_loss': 0.6212579011917114, 'eval_accuracy': 0.8177641653905053, 'eval_runtime': 83.4606, 'eval_samples_per_second': 7.824, 'eval_steps_per_second': 0.491, 'epoch': 1.0}\n"
     ]
    },
    {
     "name": "stderr",
     "output_type": "stream",
     "text": [
      " 40%|████      | 572/1430 [21:11<32:28,  2.27s/it]  "
     ]
    },
    {
     "name": "stdout",
     "output_type": "stream",
     "text": [
      "{'loss': 0.5207, 'grad_norm': 8.311683654785156, 'learning_rate': 1.2e-05, 'epoch': 2.0}\n"
     ]
    },
    {
     "name": "stderr",
     "output_type": "stream",
     "text": [
      "\n",
      " 40%|████      | 572/1430 [22:35<32:28,  2.27s/it]"
     ]
    },
    {
     "name": "stdout",
     "output_type": "stream",
     "text": [
      "{'eval_loss': 0.5665847063064575, 'eval_accuracy': 0.8315467075038285, 'eval_runtime': 83.988, 'eval_samples_per_second': 7.775, 'eval_steps_per_second': 0.488, 'epoch': 2.0}\n"
     ]
    },
    {
     "name": "stderr",
     "output_type": "stream",
     "text": [
      " 60%|██████    | 858/1430 [33:01<19:18,  2.03s/it]  "
     ]
    },
    {
     "name": "stdout",
     "output_type": "stream",
     "text": [
      "{'loss': 0.3631, 'grad_norm': 7.591487407684326, 'learning_rate': 8.000000000000001e-06, 'epoch': 3.0}\n"
     ]
    },
    {
     "name": "stderr",
     "output_type": "stream",
     "text": [
      "\n",
      " 60%|██████    | 858/1430 [34:26<19:18,  2.03s/it]"
     ]
    },
    {
     "name": "stdout",
     "output_type": "stream",
     "text": [
      "{'eval_loss': 0.5946517586708069, 'eval_accuracy': 0.8269525267993875, 'eval_runtime': 85.694, 'eval_samples_per_second': 7.62, 'eval_steps_per_second': 0.478, 'epoch': 3.0}\n"
     ]
    },
    {
     "name": "stderr",
     "output_type": "stream",
     "text": [
      " 80%|████████  | 1144/1430 [44:45<08:40,  1.82s/it] "
     ]
    },
    {
     "name": "stdout",
     "output_type": "stream",
     "text": [
      "{'loss': 0.2594, 'grad_norm': 1.3649829626083374, 'learning_rate': 4.000000000000001e-06, 'epoch': 4.0}\n"
     ]
    },
    {
     "name": "stderr",
     "output_type": "stream",
     "text": [
      "\n",
      " 80%|████████  | 1144/1430 [46:10<08:40,  1.82s/it]"
     ]
    },
    {
     "name": "stdout",
     "output_type": "stream",
     "text": [
      "{'eval_loss': 0.6324412226676941, 'eval_accuracy': 0.8101071975497703, 'eval_runtime': 85.7012, 'eval_samples_per_second': 7.619, 'eval_steps_per_second': 0.478, 'epoch': 4.0}\n"
     ]
    },
    {
     "name": "stderr",
     "output_type": "stream",
     "text": [
      " 80%|████████  | 1144/1430 [46:12<11:33,  2.42s/it]\n"
     ]
    },
    {
     "name": "stdout",
     "output_type": "stream",
     "text": [
      "{'train_runtime': 2772.5312, 'train_samples_per_second': 8.249, 'train_steps_per_second': 0.516, 'train_loss': 0.5374146174717617, 'epoch': 4.0}\n"
     ]
    },
    {
     "name": "stderr",
     "output_type": "stream",
     "text": [
      "100%|██████████| 41/41 [01:22<00:00,  2.02s/it]\n"
     ]
    },
    {
     "name": "stdout",
     "output_type": "stream",
     "text": [
      "\n",
      "--- Training: lr_5e-05_bs_8 ---\n"
     ]
    },
    {
     "name": "stderr",
     "output_type": "stream",
     "text": [
      "Some weights of DistilBertForSequenceClassification were not initialized from the model checkpoint at distilbert-base-uncased and are newly initialized: ['classifier.bias', 'classifier.weight', 'pre_classifier.bias', 'pre_classifier.weight']\n",
      "You should probably TRAIN this model on a down-stream task to be able to use it for predictions and inference.\n",
      "c:\\Users\\calvi\\Desktop\\Büchergenre\\venv\\Lib\\site-packages\\transformers\\training_args.py:1525: FutureWarning: `evaluation_strategy` is deprecated and will be removed in version 4.46 of 🤗 Transformers. Use `eval_strategy` instead\n",
      "  warnings.warn(\n",
      " 20%|██        | 572/2860 [02:34<08:17,  4.60it/s]"
     ]
    },
    {
     "name": "stdout",
     "output_type": "stream",
     "text": [
      "{'loss': 0.8291, 'grad_norm': 16.60262680053711, 'learning_rate': 4e-05, 'epoch': 1.0}\n"
     ]
    },
    {
     "name": "stderr",
     "output_type": "stream",
     "text": [
      "\n",
      " 20%|██        | 572/2860 [02:42<08:17,  4.60it/s]"
     ]
    },
    {
     "name": "stdout",
     "output_type": "stream",
     "text": [
      "{'eval_loss': 0.6232512593269348, 'eval_accuracy': 0.8101071975497703, 'eval_runtime': 8.292, 'eval_samples_per_second': 78.75, 'eval_steps_per_second': 9.889, 'epoch': 1.0}\n"
     ]
    },
    {
     "name": "stderr",
     "output_type": "stream",
     "text": [
      " 40%|████      | 1144/2860 [05:18<07:03,  4.05it/s] "
     ]
    },
    {
     "name": "stdout",
     "output_type": "stream",
     "text": [
      "{'loss': 0.4508, 'grad_norm': 7.091735363006592, 'learning_rate': 3e-05, 'epoch': 2.0}\n"
     ]
    },
    {
     "name": "stderr",
     "output_type": "stream",
     "text": [
      "\n",
      " 40%|████      | 1144/2860 [05:26<07:03,  4.05it/s]"
     ]
    },
    {
     "name": "stdout",
     "output_type": "stream",
     "text": [
      "{'eval_loss': 0.6411349773406982, 'eval_accuracy': 0.8284839203675345, 'eval_runtime': 8.2772, 'eval_samples_per_second': 78.891, 'eval_steps_per_second': 9.907, 'epoch': 2.0}\n"
     ]
    },
    {
     "name": "stderr",
     "output_type": "stream",
     "text": [
      " 60%|██████    | 1716/2860 [08:03<05:02,  3.79it/s]  "
     ]
    },
    {
     "name": "stdout",
     "output_type": "stream",
     "text": [
      "{'loss': 0.2612, 'grad_norm': 3.003911256790161, 'learning_rate': 2e-05, 'epoch': 3.0}\n"
     ]
    },
    {
     "name": "stderr",
     "output_type": "stream",
     "text": [
      "\n",
      " 60%|██████    | 1716/2860 [08:11<05:02,  3.79it/s]"
     ]
    },
    {
     "name": "stdout",
     "output_type": "stream",
     "text": [
      "{'eval_loss': 0.8384587168693542, 'eval_accuracy': 0.8162327718223583, 'eval_runtime': 8.2969, 'eval_samples_per_second': 78.704, 'eval_steps_per_second': 9.883, 'epoch': 3.0}\n"
     ]
    },
    {
     "name": "stderr",
     "output_type": "stream",
     "text": [
      " 80%|████████  | 2288/2860 [10:47<02:28,  3.86it/s]  "
     ]
    },
    {
     "name": "stdout",
     "output_type": "stream",
     "text": [
      "{'loss': 0.131, 'grad_norm': 0.023593472316861153, 'learning_rate': 1e-05, 'epoch': 4.0}\n"
     ]
    },
    {
     "name": "stderr",
     "output_type": "stream",
     "text": [
      "\n",
      " 80%|████████  | 2288/2860 [10:55<02:28,  3.86it/s]"
     ]
    },
    {
     "name": "stdout",
     "output_type": "stream",
     "text": [
      "{'eval_loss': 0.9448538422584534, 'eval_accuracy': 0.8085758039816233, 'eval_runtime': 8.2649, 'eval_samples_per_second': 79.009, 'eval_steps_per_second': 9.922, 'epoch': 4.0}\n"
     ]
    },
    {
     "name": "stderr",
     "output_type": "stream",
     "text": [
      " 80%|████████  | 2288/2860 [10:57<02:44,  3.48it/s]\n"
     ]
    },
    {
     "name": "stdout",
     "output_type": "stream",
     "text": [
      "{'train_runtime': 657.4761, 'train_samples_per_second': 34.785, 'train_steps_per_second': 4.35, 'train_loss': 0.4179992842507529, 'epoch': 4.0}\n"
     ]
    },
    {
     "name": "stderr",
     "output_type": "stream",
     "text": [
      "100%|██████████| 82/82 [00:08<00:00, 10.09it/s]\n",
      "Some weights of DistilBertForSequenceClassification were not initialized from the model checkpoint at distilbert-base-uncased and are newly initialized: ['classifier.bias', 'classifier.weight', 'pre_classifier.bias', 'pre_classifier.weight']\n",
      "You should probably TRAIN this model on a down-stream task to be able to use it for predictions and inference.\n"
     ]
    },
    {
     "name": "stdout",
     "output_type": "stream",
     "text": [
      "\n",
      "--- Training: lr_5e-05_bs_16 ---\n"
     ]
    },
    {
     "name": "stderr",
     "output_type": "stream",
     "text": [
      "c:\\Users\\calvi\\Desktop\\Büchergenre\\venv\\Lib\\site-packages\\transformers\\training_args.py:1525: FutureWarning: `evaluation_strategy` is deprecated and will be removed in version 4.46 of 🤗 Transformers. Use `eval_strategy` instead\n",
      "  warnings.warn(\n",
      " 20%|██        | 286/1430 [11:31<47:38,  2.50s/it]  "
     ]
    },
    {
     "name": "stdout",
     "output_type": "stream",
     "text": [
      "{'loss': 0.8482, 'grad_norm': 10.7838716506958, 'learning_rate': 4e-05, 'epoch': 1.0}\n"
     ]
    },
    {
     "name": "stderr",
     "output_type": "stream",
     "text": [
      "\n",
      " 20%|██        | 286/1430 [13:10<47:38,  2.50s/it]"
     ]
    },
    {
     "name": "stdout",
     "output_type": "stream",
     "text": [
      "{'eval_loss': 0.6031031012535095, 'eval_accuracy': 0.8177641653905053, 'eval_runtime': 99.1615, 'eval_samples_per_second': 6.585, 'eval_steps_per_second': 0.413, 'epoch': 1.0}\n"
     ]
    },
    {
     "name": "stderr",
     "output_type": "stream",
     "text": [
      " 40%|████      | 572/1430 [27:57<44:51,  3.14s/it]   "
     ]
    },
    {
     "name": "stdout",
     "output_type": "stream",
     "text": [
      "{'loss': 0.4411, 'grad_norm': 7.563353538513184, 'learning_rate': 3e-05, 'epoch': 2.0}\n"
     ]
    },
    {
     "name": "stderr",
     "output_type": "stream",
     "text": [
      "\n",
      " 40%|████      | 572/1430 [29:51<44:51,  3.14s/it]"
     ]
    },
    {
     "name": "stdout",
     "output_type": "stream",
     "text": [
      "{'eval_loss': 0.6298366189002991, 'eval_accuracy': 0.8162327718223583, 'eval_runtime': 113.5171, 'eval_samples_per_second': 5.752, 'eval_steps_per_second': 0.361, 'epoch': 2.0}\n"
     ]
    },
    {
     "name": "stderr",
     "output_type": "stream",
     "text": [
      " 60%|██████    | 858/1430 [45:25<30:00,  3.15s/it]  "
     ]
    },
    {
     "name": "stdout",
     "output_type": "stream",
     "text": [
      "{'loss': 0.2558, 'grad_norm': 11.037590980529785, 'learning_rate': 2e-05, 'epoch': 3.0}\n"
     ]
    },
    {
     "name": "stderr",
     "output_type": "stream",
     "text": [
      "\n",
      " 60%|██████    | 858/1430 [47:26<30:00,  3.15s/it]"
     ]
    },
    {
     "name": "stdout",
     "output_type": "stream",
     "text": [
      "{'eval_loss': 0.6705167889595032, 'eval_accuracy': 0.8238897396630934, 'eval_runtime': 120.8834, 'eval_samples_per_second': 5.402, 'eval_steps_per_second': 0.339, 'epoch': 3.0}\n"
     ]
    },
    {
     "name": "stderr",
     "output_type": "stream",
     "text": [
      " 80%|████████  | 1144/1430 [1:04:11<16:36,  3.49s/it]"
     ]
    },
    {
     "name": "stdout",
     "output_type": "stream",
     "text": [
      "{'loss': 0.1356, 'grad_norm': 0.23653681576251984, 'learning_rate': 1e-05, 'epoch': 4.0}\n"
     ]
    },
    {
     "name": "stderr",
     "output_type": "stream",
     "text": [
      "\n",
      " 80%|████████  | 1144/1430 [1:06:10<16:36,  3.49s/it]"
     ]
    },
    {
     "name": "stdout",
     "output_type": "stream",
     "text": [
      "{'eval_loss': 0.7876107692718506, 'eval_accuracy': 0.8024502297090352, 'eval_runtime': 118.6867, 'eval_samples_per_second': 5.502, 'eval_steps_per_second': 0.345, 'epoch': 4.0}\n"
     ]
    },
    {
     "name": "stderr",
     "output_type": "stream",
     "text": [
      "100%|██████████| 1430/1430 [1:23:44<00:00,  6.60s/it]  "
     ]
    },
    {
     "name": "stdout",
     "output_type": "stream",
     "text": [
      "{'loss': 0.084, 'grad_norm': 0.07171538472175598, 'learning_rate': 0.0, 'epoch': 5.0}\n"
     ]
    },
    {
     "name": "stderr",
     "output_type": "stream",
     "text": [
      "\n",
      "100%|██████████| 1430/1430 [1:26:29<00:00,  6.60s/it]"
     ]
    },
    {
     "name": "stdout",
     "output_type": "stream",
     "text": [
      "{'eval_loss': 0.8318362832069397, 'eval_accuracy': 0.8101071975497703, 'eval_runtime': 165.4524, 'eval_samples_per_second': 3.947, 'eval_steps_per_second': 0.248, 'epoch': 5.0}\n"
     ]
    },
    {
     "name": "stderr",
     "output_type": "stream",
     "text": [
      "100%|██████████| 1430/1430 [1:26:31<00:00,  3.63s/it]\n"
     ]
    },
    {
     "name": "stdout",
     "output_type": "stream",
     "text": [
      "{'train_runtime': 5191.5285, 'train_samples_per_second': 4.405, 'train_steps_per_second': 0.275, 'train_loss': 0.3529495866148622, 'epoch': 5.0}\n"
     ]
    },
    {
     "name": "stderr",
     "output_type": "stream",
     "text": [
      "100%|██████████| 41/41 [02:48<00:00,  4.10s/it]\n"
     ]
    },
    {
     "name": "stdout",
     "output_type": "stream",
     "text": [
      "\n",
      "Bestes Setup: lr_2e-05_bs_8 mit Val-Accuracy=0.8346\n"
     ]
    },
    {
     "name": "stderr",
     "output_type": "stream",
     "text": [
      "100%|██████████| 164/164 [01:04<00:00,  2.53it/s]\n"
     ]
    },
    {
     "name": "stdout",
     "output_type": "stream",
     "text": [
      "\n",
      "=== Test‑Set Evaluation ===\n",
      "Accuracy: 0.8318042813455657\n",
      "                 precision    recall  f1-score   support\n",
      "\n",
      "        cooking       0.94      0.94      0.94       265\n",
      "          crime       0.81      0.86      0.83       228\n",
      "        fantasy       0.78      0.69      0.73       153\n",
      "        history       0.84      0.77      0.80       125\n",
      "         horror       0.73      0.83      0.78       198\n",
      "        romance       0.86      0.85      0.85       191\n",
      "science_fiction       0.83      0.78      0.80       148\n",
      "\n",
      "       accuracy                           0.83      1308\n",
      "      macro avg       0.83      0.82      0.82      1308\n",
      "   weighted avg       0.83      0.83      0.83      1308\n",
      "\n"
     ]
    },
    {
     "ename": "SafetensorError",
     "evalue": "Error while serializing: IoError(Os { code: 1224, kind: Uncategorized, message: \"Der Vorgang ist bei einer Datei mit einem geöffneten Bereich, der einem Benutzer zugeordnet ist, nicht anwendbar.\" })",
     "output_type": "error",
     "traceback": [
      "\u001b[31m---------------------------------------------------------------------------\u001b[39m",
      "\u001b[31mSafetensorError\u001b[39m                           Traceback (most recent call last)",
      "\u001b[36mCell\u001b[39m\u001b[36m \u001b[39m\u001b[32mIn[7]\u001b[39m\u001b[32m, line 156\u001b[39m\n\u001b[32m    154\u001b[39m output_dir = \u001b[33m\"\u001b[39m\u001b[33mbest_bert_model\u001b[39m\u001b[33m\"\u001b[39m\n\u001b[32m    155\u001b[39m os.makedirs(output_dir, exist_ok=\u001b[38;5;28;01mTrue\u001b[39;00m)\n\u001b[32m--> \u001b[39m\u001b[32m156\u001b[39m \u001b[43mbest_trainer\u001b[49m\u001b[43m.\u001b[49m\u001b[43mmodel\u001b[49m\u001b[43m.\u001b[49m\u001b[43msave_pretrained\u001b[49m\u001b[43m(\u001b[49m\u001b[43moutput_dir\u001b[49m\u001b[43m)\u001b[49m\n\u001b[32m    157\u001b[39m tokenizer.save_pretrained(output_dir)\n\u001b[32m    158\u001b[39m \u001b[38;5;28mprint\u001b[39m(\u001b[33mf\u001b[39m\u001b[33m\"\u001b[39m\u001b[33mBestes Modell gespeichert in \u001b[39m\u001b[33m'\u001b[39m\u001b[38;5;132;01m{\u001b[39;00moutput_dir\u001b[38;5;132;01m}\u001b[39;00m\u001b[33m'\u001b[39m\u001b[33m\"\u001b[39m)\n",
      "\u001b[36mFile \u001b[39m\u001b[32mc:\\Users\\calvi\\Desktop\\Büchergenre\\venv\\Lib\\site-packages\\transformers\\modeling_utils.py:2771\u001b[39m, in \u001b[36mPreTrainedModel.save_pretrained\u001b[39m\u001b[34m(self, save_directory, is_main_process, state_dict, save_function, push_to_hub, max_shard_size, safe_serialization, variant, token, save_peft_format, **kwargs)\u001b[39m\n\u001b[32m   2766\u001b[39m     gc.collect()\n\u001b[32m   2768\u001b[39m \u001b[38;5;28;01mif\u001b[39;00m safe_serialization:\n\u001b[32m   2769\u001b[39m     \u001b[38;5;66;03m# At some point we will need to deal better with save_function (used for TPU and other distributed\u001b[39;00m\n\u001b[32m   2770\u001b[39m     \u001b[38;5;66;03m# joyfulness), but for now this enough.\u001b[39;00m\n\u001b[32m-> \u001b[39m\u001b[32m2771\u001b[39m     \u001b[43msafe_save_file\u001b[49m\u001b[43m(\u001b[49m\u001b[43mshard\u001b[49m\u001b[43m,\u001b[49m\u001b[43m \u001b[49m\u001b[43mos\u001b[49m\u001b[43m.\u001b[49m\u001b[43mpath\u001b[49m\u001b[43m.\u001b[49m\u001b[43mjoin\u001b[49m\u001b[43m(\u001b[49m\u001b[43msave_directory\u001b[49m\u001b[43m,\u001b[49m\u001b[43m \u001b[49m\u001b[43mshard_file\u001b[49m\u001b[43m)\u001b[49m\u001b[43m,\u001b[49m\u001b[43m \u001b[49m\u001b[43mmetadata\u001b[49m\u001b[43m=\u001b[49m\u001b[43m{\u001b[49m\u001b[33;43m\"\u001b[39;49m\u001b[33;43mformat\u001b[39;49m\u001b[33;43m\"\u001b[39;49m\u001b[43m:\u001b[49m\u001b[43m \u001b[49m\u001b[33;43m\"\u001b[39;49m\u001b[33;43mpt\u001b[39;49m\u001b[33;43m\"\u001b[39;49m\u001b[43m}\u001b[49m\u001b[43m)\u001b[49m\n\u001b[32m   2772\u001b[39m \u001b[38;5;28;01melse\u001b[39;00m:\n\u001b[32m   2773\u001b[39m     save_function(shard, os.path.join(save_directory, shard_file))\n",
      "\u001b[36mFile \u001b[39m\u001b[32mc:\\Users\\calvi\\Desktop\\Büchergenre\\venv\\Lib\\site-packages\\safetensors\\torch.py:286\u001b[39m, in \u001b[36msave_file\u001b[39m\u001b[34m(tensors, filename, metadata)\u001b[39m\n\u001b[32m    255\u001b[39m \u001b[38;5;28;01mdef\u001b[39;00m\u001b[38;5;250m \u001b[39m\u001b[34msave_file\u001b[39m(\n\u001b[32m    256\u001b[39m     tensors: Dict[\u001b[38;5;28mstr\u001b[39m, torch.Tensor],\n\u001b[32m    257\u001b[39m     filename: Union[\u001b[38;5;28mstr\u001b[39m, os.PathLike],\n\u001b[32m    258\u001b[39m     metadata: Optional[Dict[\u001b[38;5;28mstr\u001b[39m, \u001b[38;5;28mstr\u001b[39m]] = \u001b[38;5;28;01mNone\u001b[39;00m,\n\u001b[32m    259\u001b[39m ):\n\u001b[32m    260\u001b[39m \u001b[38;5;250m    \u001b[39m\u001b[33;03m\"\"\"\u001b[39;00m\n\u001b[32m    261\u001b[39m \u001b[33;03m    Saves a dictionary of tensors into raw bytes in safetensors format.\u001b[39;00m\n\u001b[32m    262\u001b[39m \n\u001b[32m   (...)\u001b[39m\u001b[32m    284\u001b[39m \u001b[33;03m    ```\u001b[39;00m\n\u001b[32m    285\u001b[39m \u001b[33;03m    \"\"\"\u001b[39;00m\n\u001b[32m--> \u001b[39m\u001b[32m286\u001b[39m     \u001b[43mserialize_file\u001b[49m\u001b[43m(\u001b[49m\u001b[43m_flatten\u001b[49m\u001b[43m(\u001b[49m\u001b[43mtensors\u001b[49m\u001b[43m)\u001b[49m\u001b[43m,\u001b[49m\u001b[43m \u001b[49m\u001b[43mfilename\u001b[49m\u001b[43m,\u001b[49m\u001b[43m \u001b[49m\u001b[43mmetadata\u001b[49m\u001b[43m=\u001b[49m\u001b[43mmetadata\u001b[49m\u001b[43m)\u001b[49m\n",
      "\u001b[31mSafetensorError\u001b[39m: Error while serializing: IoError(Os { code: 1224, kind: Uncategorized, message: \"Der Vorgang ist bei einer Datei mit einem geöffneten Bereich, der einem Benutzer zugeordnet ist, nicht anwendbar.\" })"
     ]
    }
   ],
   "source": [
    "\n",
    "%pip install transformers datasets evaluate accelerate -q\n",
    "\n",
    "import os\n",
    "import numpy as np\n",
    "import pandas as pd\n",
    "import matplotlib.pyplot as plt\n",
    "from datasets import load_dataset, DatasetDict, ClassLabel\n",
    "from transformers import (\n",
    "    AutoTokenizer,\n",
    "    AutoModelForSequenceClassification,\n",
    "    Trainer,\n",
    "    TrainingArguments,\n",
    "    DataCollatorWithPadding,\n",
    "    EarlyStoppingCallback\n",
    ")\n",
    "from sklearn.metrics import classification_report, accuracy_score\n",
    "from evaluate import load as load_metric\n",
    "\n",
    "\n",
    "%matplotlib inline\n",
    "\n",
    "\n",
    "# Datensatz laden\n",
    "data_path = \"data/clean_books.csv\"\n",
    "if not os.path.exists(data_path):\n",
    "    raise FileNotFoundError(f\"{data_path} wurde nicht gefunden.\")\n",
    "\n",
    "raw = load_dataset(\"csv\", data_files=data_path)[\"train\"]\n",
    "print(f\"Datensatz geladen: {len(raw)} Bücher\")\n",
    "\n",
    "\n",
    "# Labels encodieren\n",
    "\n",
    "genres = sorted(set(raw[\"genre\"]))\n",
    "num_labels = len(genres)\n",
    "raw = raw.cast_column(\"genre\", ClassLabel(names=genres))\n",
    "\n",
    "\n",
    "#Train/Dev/Test\n",
    "\n",
    "split1 = raw.train_test_split(test_size=0.30, seed=42, stratify_by_column=\"genre\")\n",
    "ds_train = split1[\"train\"]\n",
    "ds_rest  = split1[\"test\"]\n",
    "split2 = ds_rest.train_test_split(test_size=2/3, seed=42, stratify_by_column=\"genre\")\n",
    "ds_dev  = split2[\"train\"]   # 10%\n",
    "ds_test = split2[\"test\"]    # 20%\n",
    "\n",
    "dataset_dict = DatasetDict({\n",
    "    \"train\": ds_train,\n",
    "    \"validation\": ds_dev,\n",
    "    \"test\": ds_test\n",
    "})\n",
    "print(f\"Splits → Train: {len(ds_train)}, Val: {len(ds_dev)}, Test: {len(ds_test)}\")\n",
    "\n",
    "\n",
    "#Tokenizer & Modell vorbereiten\n",
    "\n",
    "model_name = \"distilbert-base-uncased\"\n",
    "tokenizer  = AutoTokenizer.from_pretrained(model_name)\n",
    "\n",
    "def tokenize(batch):\n",
    "    return tokenizer(batch[\"text\"], truncation=True, padding=False, max_length=512)\n",
    "\n",
    "tokenized = dataset_dict.map(tokenize, batched=True)\n",
    "tokenized = tokenized.remove_columns([\"title\", \"description\", \"text\"])\n",
    "tokenized = tokenized.rename_column(\"genre\", \"labels\")\n",
    "tokenized.set_format(\"torch\")\n",
    "\n",
    "\n",
    "\n",
    "\n",
    "data_collator   = DataCollatorWithPadding(tokenizer=tokenizer, padding=\"longest\")\n",
    "accuracy_metric = load_metric(\"accuracy\")\n",
    "\n",
    "def compute_metrics(eval_pred):\n",
    "    logits, labels = eval_pred\n",
    "    preds = np.argmax(logits, axis=-1)\n",
    "    acc   = accuracy_metric.compute(predictions=preds, references=labels)[\"accuracy\"]\n",
    "    return {\"accuracy\": acc}\n",
    "\n",
    "\n",
    "# Hyperparameter‑Loop\n",
    "\n",
    "learning_rates = [2e-5, 5e-5]\n",
    "batch_sizes    = [8, 16]\n",
    "best_val_acc   = 0.0\n",
    "best_trainer   = None\n",
    "results        = {}\n",
    "\n",
    "for lr in learning_rates:\n",
    "    for bs in batch_sizes:\n",
    "        run_name = f\"lr_{lr}_bs_{bs}\"\n",
    "        print(f\"\\n--- Training: {run_name} ---\")\n",
    "        model_tmp = AutoModelForSequenceClassification.from_pretrained(model_name, num_labels=num_labels)\n",
    "\n",
    "        training_args = TrainingArguments(\n",
    "            output_dir=f\"./checkpoints/{run_name}\",\n",
    "            num_train_epochs=5,\n",
    "            per_device_train_batch_size=bs,\n",
    "            per_device_eval_batch_size=bs,\n",
    "            learning_rate=lr,\n",
    "            weight_decay=0.01,\n",
    "            evaluation_strategy=\"epoch\",\n",
    "            save_strategy=\"epoch\",\n",
    "            load_best_model_at_end=True,\n",
    "            metric_for_best_model=\"accuracy\",\n",
    "            greater_is_better=True,\n",
    "            logging_dir=f\"./logs/{run_name}\",\n",
    "            logging_strategy=\"epoch\",\n",
    "            save_total_limit=1,\n",
    "            seed=42\n",
    "        )\n",
    "\n",
    "        trainer = Trainer(\n",
    "            model=model_tmp,\n",
    "            args=training_args,\n",
    "            train_dataset=tokenized[\"train\"],\n",
    "            eval_dataset= tokenized[\"validation\"],\n",
    "            tokenizer=tokenizer,\n",
    "            data_collator=data_collator,\n",
    "            compute_metrics=compute_metrics,\n",
    "            callbacks=[EarlyStoppingCallback(early_stopping_patience=2)]\n",
    "        )\n",
    "\n",
    "        trainer.train()\n",
    "        val_res = trainer.evaluate(tokenized[\"validation\"])\n",
    "        val_acc = val_res[\"eval_accuracy\"]\n",
    "        results[run_name] = val_acc\n",
    "\n",
    "        if val_acc > best_val_acc:\n",
    "            best_val_acc  = val_acc\n",
    "            best_trainer  = trainer\n",
    "\n",
    "print(f\"\\nBestes Setup: {max(results, key=results.get)} mit Val-Accuracy={best_val_acc:.4f}\")\n",
    "\n",
    "\n",
    "# Test‑Evaluation\n",
    "\n",
    "pred = best_trainer.predict(tokenized[\"test\"])\n",
    "y_true = pred.label_ids\n",
    "y_pred = np.argmax(pred.predictions, axis=-1)\n",
    "\n",
    "print(\"\\n=== Test‑Set Evaluation ===\")\n",
    "print(\"Accuracy:\", accuracy_score(y_true, y_pred))\n",
    "print(classification_report(y_true, y_pred, target_names=genres))\n",
    "\n",
    "\n",
    "# Speichern\n",
    "\n",
    "output_dir = \"best_bert_model\"\n",
    "os.makedirs(output_dir, exist_ok=True)\n",
    "best_trainer.model.save_pretrained(output_dir, safe_serialization=False)\n",
    "tokenizer.save_pretrained(output_dir)\n",
    "print(f\"Bestes Modell gespeichert in '{output_dir}'\")"
   ]
  },
  {
   "cell_type": "code",
   "execution_count": null,
   "id": "641d23e2",
   "metadata": {},
   "outputs": [
    {
     "name": "stdout",
     "output_type": "stream",
     "text": [
      "Bestes Modell gespeichert in 'best_bert_model'\n"
     ]
    }
   ],
   "source": [
    "output_dir = \"best_bert_model\"\n",
    "os.makedirs(output_dir, exist_ok=True)\n",
    "best_trainer.model.save_pretrained(output_dir, safe_serialization=False)\n",
    "tokenizer.save_pretrained(output_dir)\n",
    "print(f\"Bestes Modell gespeichert in '{output_dir}'\")\n"
   ]
  },
  {
   "cell_type": "code",
   "execution_count": 16,
   "id": "d1fbe4c6",
   "metadata": {},
   "outputs": [
    {
     "data": {
      "image/png": "[encoded data removed]",
      "text/plain": [
       "<Figure size 800x500 with 1 Axes>"
      ]
     },
     "metadata": {},
     "output_type": "display_data"
    }
   ],
   "source": [
    "import matplotlib.pyplot as plt\n",
    "\n",
    "logs = best_trainer.state.log_history\n",
    "\n",
    "# Training und Validation Loss extrahieren\n",
    "train_loss = [x[\"loss\"] for x in logs if \"loss\" in x and \"epoch\" in x]\n",
    "eval_loss = [x[\"eval_loss\"] for x in logs if \"eval_loss\" in x]\n",
    "epochs_train = [x[\"epoch\"] for x in logs if \"loss\" in x and \"epoch\" in x]\n",
    "epochs_eval = [x[\"epoch\"] for x in logs if \"eval_loss\" in x]\n",
    "\n",
    "# Plot\n",
    "plt.figure(figsize=(8, 5))\n",
    "plt.plot(epochs_train, train_loss, label=\"Training Loss\", marker='o')\n",
    "plt.plot(epochs_eval, eval_loss, label=\"Validation Loss\", marker='s')\n",
    "plt.xlabel(\"Epoch\")\n",
    "plt.ylabel(\"Loss\")\n",
    "plt.title(\"Learning Curve (Loss)\")\n",
    "plt.legend()\n",
    "plt.grid(True)\n",
    "plt.show()\n"
   ]
  }
 ],
 "metadata": {
  "kernelspec": {
   "display_name": "venv",
   "language": "python",
   "name": "python3"
  },
  "language_info": {
   "codemirror_mode": {
    "name": "ipython",
    "version": 3
   },
   "file_extension": ".py",
   "mimetype": "text/x-python",
   "name": "python",
   "nbconvert_exporter": "python",
   "pygments_lexer": "ipython3",
   "version": "3.12.10"
  }
 },
 "nbformat": 4,
 "nbformat_minor": 5
}
